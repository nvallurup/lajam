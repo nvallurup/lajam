{
 "cells": [
  {
   "cell_type": "code",
   "execution_count": 1,
   "id": "bf79736a",
   "metadata": {
    "scrolled": false
   },
   "outputs": [
    {
     "name": "stdout",
     "output_type": "stream",
     "text": [
      "Requirement already satisfied: pandas in /Users/neel/opt/anaconda3/lib/python3.9/site-packages (1.4.4)\r\n",
      "Requirement already satisfied: openpyxl in /Users/neel/opt/anaconda3/lib/python3.9/site-packages (3.0.10)\r\n",
      "Requirement already satisfied: python-dateutil>=2.8.1 in /Users/neel/opt/anaconda3/lib/python3.9/site-packages (from pandas) (2.8.2)\r\n",
      "Requirement already satisfied: pytz>=2020.1 in /Users/neel/opt/anaconda3/lib/python3.9/site-packages (from pandas) (2022.7)\r\n",
      "Requirement already satisfied: numpy>=1.18.5 in /Users/neel/opt/anaconda3/lib/python3.9/site-packages (from pandas) (1.23.5)\r\n",
      "Requirement already satisfied: et_xmlfile in /Users/neel/opt/anaconda3/lib/python3.9/site-packages (from openpyxl) (1.1.0)\r\n",
      "Requirement already satisfied: six>=1.5 in /Users/neel/opt/anaconda3/lib/python3.9/site-packages (from python-dateutil>=2.8.1->pandas) (1.16.0)\r\n"
     ]
    }
   ],
   "source": [
    "!pip install pandas openpyxl"
   ]
  },
  {
   "cell_type": "code",
   "execution_count": 462,
   "id": "5d78f755",
   "metadata": {},
   "outputs": [],
   "source": [
    "import pandas as pd"
   ]
  },
  {
   "cell_type": "code",
   "execution_count": 463,
   "id": "2aaa93cd",
   "metadata": {},
   "outputs": [],
   "source": [
    "file_path = \"TJA_MyChartMessages.xlsx\"\n",
    "xls = pd.read_excel(file_path, sheet_name=None, engine='openpyxl')"
   ]
  },
  {
   "cell_type": "code",
   "execution_count": 464,
   "id": "46f49896",
   "metadata": {},
   "outputs": [],
   "source": [
    "sheet1 = xls['Sheet1']\n",
    "sheet2 = xls['3WeeksPrior']\n",
    "sheet3 = xls['90DayPost']\n",
    "sheet4 = xls['PRO']"
   ]
  },
  {
   "cell_type": "markdown",
   "id": "f3cf0874",
   "metadata": {},
   "source": [
    "sheet1.head()\n",
    "sheet1.dtypes"
   ]
  },
  {
   "cell_type": "code",
   "execution_count": 466,
   "id": "37bbcb7f",
   "metadata": {},
   "outputs": [],
   "source": [
    "column_names = {\n",
    "    'PrimaryMrn': 'mrn',\n",
    "    'MyChartStatus': 'mychart_status',\n",
    "    'Age': 'age',\n",
    "    'BirthDate': 'date_birth',\n",
    "    'Sex': 'sex',\n",
    "    'Race': 'race',\n",
    "    'Ethnicity': 'ethnicity',\n",
    "    'PreferredLanguage': 'preferred_language',\n",
    "    'PostalCode': 'postal_code',\n",
    "    'MaritalStatus': 'marital_status',\n",
    "    'BenefitPlanName': 'payer_name',\n",
    "    'PayorFinancialClass': 'payer_type',\n",
    "    'Asa': 'asa',\n",
    "    'SurgeonName': 'surgeon_name',\n",
    "    'ProcedureName': 'procedure',\n",
    "    'AdmissionPatientClass': 'admission_class',\n",
    "    'Admitdate': 'date_admit',\n",
    "    'SurgeryDate': 'date_surgery',\n",
    "    'ProcStartTime': 'time_proc_start',\n",
    "    'ProcEndTime': 'time_proc_end',\n",
    "    'DischargeDate': 'date_discharge',\n",
    "    'LengthOfStayHours': 'los_hours',\n",
    "    'PrimaryProcedureLaterality': 'laterality',\n",
    "    'PrimaryAnesthesiaType': 'anesthesia_type',\n",
    "    'DischargeDisposition': 'discharge_disposition',\n",
    "}\n",
    "\n",
    "sheet1.rename(columns=column_names, inplace=True)"
   ]
  },
  {
   "cell_type": "code",
   "execution_count": 467,
   "id": "39f4ef5b",
   "metadata": {
    "scrolled": false
   },
   "outputs": [],
   "source": [
    "sheet1['postal_code'] = sheet1['postal_code'].astype(str)\n",
    "sheet1['five_digit_postal_code'] = sheet1['postal_code'].str.slice(0, 5)\n",
    "sheet1 = sheet1.drop('postal_code', axis=1)\n",
    "sheet1['english_preferred_language'] = sheet1['preferred_language'].apply(lambda x: 1 if x == 'English' else 0)\n",
    "def simplify_race(race):\n",
    "    white = ['White']\n",
    "    black_african_american = ['Black, African American']\n",
    "    asian = [\n",
    "        'Chinese', 'Asian Indian', 'Asian - unspecified',\n",
    "        'Filipino', 'Asian', 'Pakistani', 'Korean', 'Japanese',\n",
    "        'Bangladeshi', 'Laotian', 'Thai', 'Indonesian', 'Sri Lankan',\n",
    "        'Cambodian', 'Vietnamese'\n",
    "    ]\n",
    "    american_indian = ['Native American (American Indian/Eskimo/Aleutian)']\n",
    "    pacific_islander = ['Other Pacific Islander', 'Guamanian or Chamorro']\n",
    "    other = ['Other Race']\n",
    "    unknown = ['Unknown']\n",
    "    patient_refused = ['Patient Refused']\n",
    "\n",
    "    if race in white:\n",
    "        return 'white'\n",
    "    elif race in black_african_american:\n",
    "        return 'black or african american'\n",
    "    elif race in asian:\n",
    "        return 'asian'\n",
    "    elif race in american_indian:\n",
    "        return 'american indian'\n",
    "    elif race in pacific_islander:\n",
    "        return 'native hawaiian or other pacific islander'\n",
    "    elif race in other:\n",
    "        return 'other'\n",
    "    elif race in unknown:\n",
    "        return 'unknown'\n",
    "    elif race in patient_refused:\n",
    "        return 'patient refused'\n",
    "    else:\n",
    "        return 'unknown'\n",
    "sheet1['race_simplified'] = sheet1['race'].apply(simplify_race)\n",
    "\n",
    "\n",
    "\n",
    "\n"
   ]
  },
  {
   "cell_type": "code",
   "execution_count": 468,
   "id": "56fef8ef",
   "metadata": {},
   "outputs": [
    {
     "name": "stdout",
     "output_type": "stream",
     "text": [
      "1    15416\n",
      "2     2533\n",
      "3       62\n",
      "4        7\n",
      "Name: mrn, dtype: int64\n"
     ]
    }
   ],
   "source": [
    "mrn_counts = sheet1['mrn'].value_counts()\n",
    "frequency_counts = mrn_counts.value_counts().sort_index()\n",
    "print(frequency_counts)\n",
    "# Filter the MRNs that appear 4 times\n",
    "mrns_with_4_occurrences = mrn_counts[mrn_counts == 4].index\n",
    "\n",
    "# Get all rows in the DataFrame associated with the MRNs that show up 4 times\n",
    "rows_with_4_occurrences = sheet1[sheet1['mrn'].isin(mrns_with_4_occurrences)]\n",
    "\n",
    "# Select the desired columns\n",
    "desired_columns = ['mrn', 'procedure', 'date_admit', 'date_surgery', 'date_discharge', 'laterality']\n",
    "filtered_rows_with_4_occurrences = rows_with_4_occurrences[desired_columns]\n",
    "\n",
    "# Display the rows with the desired columns\n",
    "\n",
    "\n",
    "\n",
    "\n",
    "\n",
    "\n"
   ]
  },
  {
   "cell_type": "code",
   "execution_count": 469,
   "id": "2cd37ffe",
   "metadata": {
    "scrolled": true
   },
   "outputs": [
    {
     "name": "stdout",
     "output_type": "stream",
     "text": [
      "     mrn mychart_status  age date_birth     sex   race  \\\n",
      "0  10847      Activated   79 1941-09-15    Male  White   \n",
      "1  14975      Activated   81 1938-12-01    Male  White   \n",
      "2  14975      Activated   82 1938-12-01    Male  White   \n",
      "3  21400      Activated   80 1939-01-03  Female  White   \n",
      "4  23732      Activated   85 1933-10-28    Male  White   \n",
      "\n",
      "                        ethnicity preferred_language marital_status  \\\n",
      "0                    *Unspecified            English        Married   \n",
      "1  Not of Spanish/Hispanic Origin            English        Married   \n",
      "2  Not of Spanish/Hispanic Origin            English        Married   \n",
      "3  Not of Spanish/Hispanic Origin            English        Widowed   \n",
      "4                    *Unspecified            English         Single   \n",
      "\n",
      "              payer_name  ... time_proc_end date_discharge los_hours  \\\n",
      "0  MEDICARE PART A AND B  ...      15:40:00     2021-02-11        53   \n",
      "1  MEDICARE PART A AND B  ...      12:06:00     2020-01-17        29   \n",
      "2  MEDICARE PART A AND B  ...      09:45:00     2021-04-22        10   \n",
      "3  MEDICARE PART A AND B  ...      10:51:00     2019-04-06        80   \n",
      "4  MEDICARE PART A AND B  ...      11:00:00     2019-03-21        58   \n",
      "\n",
      "  laterality                     anesthesia_type  \\\n",
      "0      Right  Regional (Spinal/ Epidural/ Block)   \n",
      "1      Right  Regional (Spinal/ Epidural/ Block)   \n",
      "2       Left  Regional (Spinal/ Epidural/ Block)   \n",
      "3      Right  Regional (Spinal/ Epidural/ Block)   \n",
      "4      Right  Regional (Spinal/ Epidural/ Block)   \n",
      "\n",
      "                       discharge_disposition five_digit_postal_code  \\\n",
      "0  Home - under care of Home Health Services                  11201   \n",
      "1                          Home or Self-Care                  10022   \n",
      "2                          Home or Self-Care                  10022   \n",
      "3  Home - under care of Home Health Services                  10024   \n",
      "4  Home - under care of Home Health Services                  10021   \n",
      "\n",
      "  english_preferred_language race_simplified  mrn_date_surgery  \n",
      "0                          1           white  10847_2021-02-09  \n",
      "1                          1           white  14975_2020-01-16  \n",
      "2                          1           white  14975_2021-04-22  \n",
      "3                          1           white  21400_2019-04-03  \n",
      "4                          1           white  23732_2019-03-19  \n",
      "\n",
      "[5 rows x 28 columns]\n"
     ]
    }
   ],
   "source": [
    "# Convert the 'mrn' and 'date_surgery' columns to strings\n",
    "sheet1['mrn'] = sheet1['mrn'].astype(str)\n",
    "sheet1['date_surgery'] = sheet1['date_surgery'].astype(str)\n",
    "\n",
    "# Create a new column by concatenating the 'mrn' and 'date_surgery' columns\n",
    "sheet1['mrn_date_surgery'] = sheet1['mrn'] + '_' + sheet1['date_surgery']\n",
    "\n",
    "# Display the DataFrame with the new 'mrn_date_surgery' column\n",
    "print(sheet1.head())\n"
   ]
  },
  {
   "cell_type": "code",
   "execution_count": 470,
   "id": "c239f561",
   "metadata": {},
   "outputs": [],
   "source": [
    "import pandas as pd\n",
    "\n",
    "variables = [\n",
    "    'mychart_status', 'sex', 'race', 'ethnicity', 'preferred_language',\n",
    "    'marital_status', 'payer_name', 'payer_type', 'asa', 'surgeon_name',\n",
    "    'procedure', 'admission_class', 'laterality', 'anesthesia_type', 'discharge_disposition'\n",
    "]\n",
    "\n",
    "unique_values_data = []\n",
    "\n",
    "for variable in variables:\n",
    "    value_counts = sheet1[variable].value_counts().reset_index()\n",
    "    value_counts.columns = ['Value', 'Count']\n",
    "    unique_values_data.append(value_counts)\n",
    "\n",
    "unique_values_df = pd.concat(unique_values_data, keys=variables, axis=1)\n",
    "unique_values_df = unique_values_df.fillna(value=pd.NA)\n"
   ]
  },
  {
   "cell_type": "code",
   "execution_count": 471,
   "id": "686afa6b",
   "metadata": {},
   "outputs": [],
   "source": [
    "# Reset the MultiIndex columns to a single level\n",
    "unique_values_df.columns = ['_'.join(col) for col in unique_values_df.columns]\n",
    "\n",
    "# Export the DataFrame to an Excel file\n",
    "unique_values_df.to_excel('unique_values_report.xlsx', index=False)\n"
   ]
  },
  {
   "cell_type": "code",
   "execution_count": 472,
   "id": "aadd0085",
   "metadata": {},
   "outputs": [],
   "source": [
    "categorical_variables = [\n",
    "    'mychart_status', 'sex', 'race_simplified', 'ethnicity', 'marital_status', 'payer_type',\n",
    "    'procedure', 'admission_class', 'laterality', 'anesthesia_type', 'discharge_disposition'\n",
    "]\n",
    "encoded_data = pd.get_dummies(sheet1, columns=categorical_variables)\n",
    "sheet1_encoded = pd.get_dummies(sheet1, columns=categorical_variables, prefix=categorical_variables)\n",
    "sheet1_encoded.to_excel('encoded.xlsx', index=False)"
   ]
  },
  {
   "cell_type": "code",
   "execution_count": 473,
   "id": "4524b1c7",
   "metadata": {},
   "outputs": [
    {
     "data": {
      "text/plain": [
       "PrimaryMrn             int64\n",
       "Type                  object\n",
       "Date          datetime64[ns]\n",
       "DayOfWeek             object\n",
       "dtype: object"
      ]
     },
     "execution_count": 473,
     "metadata": {},
     "output_type": "execute_result"
    }
   ],
   "source": [
    "sheet2.head()\n",
    "sheet2.dtypes"
   ]
  },
  {
   "cell_type": "code",
   "execution_count": 474,
   "id": "4302c382",
   "metadata": {},
   "outputs": [],
   "source": [
    "column_names = {\n",
    "    'PrimaryMrn': 'mrn',\n",
    "    'Type': 'type_communication_prior',\n",
    "    'Date': 'date_communication_prior',\n",
    "    'DayOfWeek': 'day_communication_prior',\n",
    "}\n",
    "\n",
    "sheet2.rename(columns=column_names, inplace=True)"
   ]
  },
  {
   "cell_type": "code",
   "execution_count": 475,
   "id": "14713127",
   "metadata": {},
   "outputs": [
    {
     "name": "stdout",
     "output_type": "stream",
     "text": [
      "     mrn type_communication_prior date_communication_prior  \\\n",
      "0  10847          Patient Message               2021-02-05   \n",
      "1  10847          Patient Message               2021-02-04   \n",
      "2  10847          Patient Message               2021-02-03   \n",
      "3  10847          Patient Message               2021-02-02   \n",
      "4  10847          Patient Message               2021-02-01   \n",
      "\n",
      "  day_communication_prior  mrn_date_surgery  \n",
      "0                  Friday  10847_2021-02-09  \n",
      "1                Thursday  10847_2021-02-09  \n",
      "2               Wednesday  10847_2021-02-09  \n",
      "3                 Tuesday  10847_2021-02-09  \n",
      "4                  Monday  10847_2021-02-09  \n"
     ]
    }
   ],
   "source": [
    "import pandas as pd\n",
    "\n",
    "# Convert the 'mrn' columns to strings\n",
    "sheet1['mrn'] = sheet1['mrn'].astype(str)\n",
    "sheet2['mrn'] = sheet2['mrn'].astype(str)\n",
    "\n",
    "# Convert date columns to datetime format\n",
    "sheet1['date_surgery'] = pd.to_datetime(sheet1['date_surgery'])\n",
    "sheet2['date_communication_prior'] = pd.to_datetime(sheet2['date_communication_prior'])\n",
    "\n",
    "# Initialize an empty list to store the 'mrn_date_surgery' values for sheet2\n",
    "sheet2_mrn_date_surgery = []\n",
    "\n",
    "# Loop through the rows in sheet2\n",
    "for index, row in sheet2.iterrows():\n",
    "    mrn2 = row['mrn']\n",
    "    date_communication_prior = row['date_communication_prior']\n",
    "    \n",
    "    # Find the corresponding row in sheet1\n",
    "    matched_row = sheet1[(sheet1['mrn'] == mrn2) & \n",
    "                         (sheet1['date_surgery'] - pd.DateOffset(weeks=3) <= date_communication_prior) &\n",
    "                         (date_communication_prior <= sheet1['date_surgery'])]\n",
    "    \n",
    "    if not matched_row.empty:\n",
    "        mrn_date_surgery_value = matched_row.iloc[0]['mrn'] + '_' + matched_row.iloc[0]['date_surgery'].strftime('%Y-%m-%d')\n",
    "    else:\n",
    "        mrn_date_surgery_value = None\n",
    "        \n",
    "    # Append the 'mrn_date_surgery' value to the list\n",
    "    sheet2_mrn_date_surgery.append(mrn_date_surgery_value)\n",
    "\n",
    "# Assign the 'mrn_date_surgery' values to the new column in sheet2\n",
    "sheet2['mrn_date_surgery'] = sheet2_mrn_date_surgery\n",
    "\n",
    "# Display the updated sheet2 DataFrame\n",
    "print(sheet2.head())\n"
   ]
  },
  {
   "cell_type": "code",
   "execution_count": 476,
   "id": "f11d596b",
   "metadata": {},
   "outputs": [],
   "source": [
    "variables_sheet2 = [\n",
    "    'type_communication_prior', 'day_communication_prior'\n",
    "]\n",
    "\n",
    "unique_values_data_sheet2 = []\n",
    "\n",
    "for variable in variables_sheet2:\n",
    "    value_counts = sheet2[variable].value_counts().reset_index()\n",
    "    value_counts.columns = ['Value', 'Count']\n",
    "    unique_values_data_sheet2.append(value_counts)\n",
    "\n",
    "unique_values_df_sheet2 = pd.concat(unique_values_data_sheet2, keys=variables_sheet2, axis=1)\n",
    "unique_values_df_sheet2 = unique_values_df_sheet2.fillna(value=pd.NA)"
   ]
  },
  {
   "cell_type": "code",
   "execution_count": 477,
   "id": "4cd6c0a3",
   "metadata": {},
   "outputs": [
    {
     "data": {
      "text/plain": [
       "PrimaryMrn             int64\n",
       "Type                  object\n",
       "Date          datetime64[ns]\n",
       "DayOfWeek             object\n",
       "dtype: object"
      ]
     },
     "execution_count": 477,
     "metadata": {},
     "output_type": "execute_result"
    }
   ],
   "source": [
    "sheet3.head()\n",
    "sheet3.dtypes"
   ]
  },
  {
   "cell_type": "code",
   "execution_count": 478,
   "id": "1f86a555",
   "metadata": {},
   "outputs": [],
   "source": [
    "column_names = {\n",
    "    'PrimaryMrn': 'mrn',\n",
    "    'Type': 'type_communication_post',\n",
    "    'Date': 'date_communication_post',\n",
    "    'DayOfWeek': 'day_communication_post',\n",
    "}\n",
    "\n",
    "sheet3.rename(columns=column_names, inplace=True)"
   ]
  },
  {
   "cell_type": "code",
   "execution_count": 479,
   "id": "6ea96129",
   "metadata": {
    "scrolled": true
   },
   "outputs": [
    {
     "name": "stdout",
     "output_type": "stream",
     "text": [
      "     mrn type_communication_post date_communication_post  \\\n",
      "0  10847         Patient Message              2021-02-13   \n",
      "1  10847         Patient Message              2021-02-18   \n",
      "2  10847         Patient Message              2021-02-19   \n",
      "3  10847         Patient Message              2021-02-22   \n",
      "4  10847         Patient Message              2021-03-02   \n",
      "\n",
      "  day_communication_post  mrn_date_surgery  \n",
      "0               Saturday  10847_2021-02-09  \n",
      "1               Thursday  10847_2021-02-09  \n",
      "2                 Friday  10847_2021-02-09  \n",
      "3                 Monday  10847_2021-02-09  \n",
      "4                Tuesday  10847_2021-02-09  \n"
     ]
    }
   ],
   "source": [
    "# Convert the 'mrn' column in sheet3 to string\n",
    "sheet3['mrn'] = sheet3['mrn'].astype(str)\n",
    "\n",
    "# Convert the 'date_communication_post' column in sheet3 to datetime format\n",
    "sheet3['date_communication_post'] = pd.to_datetime(sheet3['date_communication_post'])\n",
    "\n",
    "# Initialize an empty list to store the 'mrn_date_surgery' values for sheet3\n",
    "sheet3_mrn_date_surgery = []\n",
    "\n",
    "# Loop through the rows in sheet3\n",
    "for index, row in sheet3.iterrows():\n",
    "    mrn3 = row['mrn']\n",
    "    date_communication_post = row['date_communication_post']\n",
    "    \n",
    "    # Find the corresponding row in sheet1\n",
    "    matched_row = sheet1[(sheet1['mrn'] == mrn3) & \n",
    "                         (sheet1['date_surgery'] <= date_communication_post) &\n",
    "                         (date_communication_post <= sheet1['date_surgery'] + pd.DateOffset(days=90))]\n",
    "    \n",
    "    if not matched_row.empty:\n",
    "        mrn_date_surgery_value = matched_row.iloc[0]['mrn'] + '_' + matched_row.iloc[0]['date_surgery'].strftime('%Y-%m-%d')\n",
    "    else:\n",
    "        mrn_date_surgery_value = None\n",
    "        \n",
    "    # Append the 'mrn_date_surgery' value to the list\n",
    "    sheet3_mrn_date_surgery.append(mrn_date_surgery_value)\n",
    "\n",
    "# Assign the 'mrn_date_surgery' values to the new column in sheet3\n",
    "sheet3['mrn_date_surgery'] = sheet3_mrn_date_surgery\n",
    "\n",
    "# Display the updated sheet3 DataFrame\n",
    "print(sheet3.head())\n"
   ]
  },
  {
   "cell_type": "code",
   "execution_count": 480,
   "id": "9403a05c",
   "metadata": {},
   "outputs": [],
   "source": [
    "variables_sheet3 = [\n",
    "    'type_communication_post', 'day_communication_post'\n",
    "]\n",
    "\n",
    "unique_values_data_sheet3 = []\n",
    "\n",
    "for variable in variables_sheet3:\n",
    "    value_counts = sheet3[variable].value_counts().reset_index()\n",
    "    value_counts.columns = ['Value', 'Count']\n",
    "    unique_values_data_sheet3.append(value_counts)\n",
    "\n",
    "unique_values_df_sheet3 = pd.concat(unique_values_data_sheet3, keys=variables_sheet3, axis=1)\n",
    "unique_values_df_sheet3 = unique_values_df_sheet3.fillna(value=pd.NA)"
   ]
  },
  {
   "cell_type": "code",
   "execution_count": 481,
   "id": "9413e058",
   "metadata": {},
   "outputs": [],
   "source": [
    "# Combine the DataFrames\n",
    "combined_df = pd.concat([unique_values_df, unique_values_df_sheet2, unique_values_df_sheet3], axis=1)\n",
    "\n",
    "# Reset the MultiIndex columns to a single level\n",
    "combined_df.columns = ['_'.join(col) for col in combined_df.columns]\n",
    "\n",
    "# Export the DataFrame to an Excel file\n",
    "combined_df.to_excel('combined_unique_values_report.xlsx', index=False)\n"
   ]
  },
  {
   "cell_type": "code",
   "execution_count": 482,
   "id": "6c3d0fef",
   "metadata": {},
   "outputs": [],
   "source": [
    "# Combine the DataFrames\n",
    "combined_data = pd.concat([sheet1, sheet2[['day_communication_prior']], sheet3[['day_communication_post']]], axis=1)\n",
    "\n",
    "categorical_variables = [\n",
    "    'mychart_status', 'sex', 'race_simplified', 'ethnicity', 'marital_status', 'payer_type',\n",
    "    'procedure', 'admission_class', 'laterality', 'anesthesia_type', 'discharge_disposition',\n",
    "    'day_communication_prior', 'day_communication_post'\n",
    "]\n",
    "\n",
    "# Get dummies for the combined_data\n",
    "combined_data_encoded = pd.get_dummies(combined_data, columns=categorical_variables, prefix=categorical_variables)\n",
    "\n",
    "# Export the DataFrame to an Excel file\n",
    "combined_data_encoded.to_excel('combined_encoded.xlsx', index=False)\n"
   ]
  },
  {
   "cell_type": "code",
   "execution_count": 483,
   "id": "40793fbd",
   "metadata": {},
   "outputs": [
    {
     "data": {
      "text/plain": [
       "MRN                                  int64\n",
       "SurgeryDate                 datetime64[ns]\n",
       "VISIT_DATE                  datetime64[ns]\n",
       "KOOS_JR_L                           object\n",
       "KOOS_JR_R                           object\n",
       "HOOS_JR_L                           object\n",
       "HOOS_JR_R                           object\n",
       "PROMIS_INTENSITY                    object\n",
       "PROMIS_INTERFERENCE                 object\n",
       "PROMIS_PHYSICAL_FUNCTION            object\n",
       "PROMIS_MOBILITY                    float64\n",
       "PROMIS_MENTAL_HEALTH                object\n",
       "PROMIS_PHYSICAL_HEALTH              object\n",
       "dtype: object"
      ]
     },
     "execution_count": 483,
     "metadata": {},
     "output_type": "execute_result"
    }
   ],
   "source": [
    "sheet4.head()\n",
    "sheet4.dtypes"
   ]
  },
  {
   "cell_type": "code",
   "execution_count": 484,
   "id": "415f3cac",
   "metadata": {},
   "outputs": [],
   "source": [
    "column_names = {\n",
    "    'MRN': 'mrn',\n",
    "    'SurgeryDate': 'date_surgery',\n",
    "    'VISIT_DATE': 'date_visit',\n",
    "    'KOOS_JR_L': 'koor_jr_l',\n",
    "    'KOOS_JR_R': 'koos_jr_r',\n",
    "    'HOOS_JR_L': 'hoos_jr_l',\n",
    "    'HOOS_JR_R': 'hoos_jr_r',\n",
    "    'PROMIS_INTENSITY': 'promis_intensity',\n",
    "    'PROMIS_INTERFERENCE': 'promis_interference',\n",
    "    'PROMIS_PHYSICAL_FUNCTION': 'promis_physical_function',\n",
    "    'PROMIS_MOBILITY': 'promis_mobility',\n",
    "    'PROMIS_MENTAL_HEALTH': 'promis_mental_health',\n",
    "    'PROMIS_PHYSICAL_HEALTH': 'promis_physical_health',\n",
    "}\n",
    "\n",
    "sheet4.rename(columns=column_names, inplace=True)"
   ]
  },
  {
   "cell_type": "code",
   "execution_count": 485,
   "id": "88e4b405",
   "metadata": {},
   "outputs": [],
   "source": [
    "# Convert the 'mrn' and 'date_surgery' columns to strings\n",
    "sheet4['mrn'] = sheet4['mrn'].astype(str)\n",
    "sheet4['date_surgery'] = sheet4['date_surgery'].astype(str)\n",
    "\n",
    "# Create a new column by concatenating the 'mrn' and 'date_surgery' columns\n",
    "sheet4['mrn_date_surgery'] = sheet4['mrn'] + '_' + sheet4['date_surgery']"
   ]
  },
  {
   "cell_type": "code",
   "execution_count": 487,
   "id": "b22c3a6d",
   "metadata": {},
   "outputs": [],
   "source": [
    "variables_sheet4 = [\n",
    "    'koor_jr_l', 'koos_jr_r', 'hoos_jr_l', 'hoos_jr_r', 'promis_intensity', \n",
    "    'promis_interference', 'promis_physical_function', 'promis_mobility', \n",
    "    'promis_mental_health', 'promis_physical_health'\n",
    "]\n",
    "\n",
    "unique_values_data_sheet4 = []\n",
    "\n",
    "for variable in variables_sheet4:\n",
    "    unique_values = sheet4[variable].unique()\n",
    "    unique_values_data_sheet4.append(pd.DataFrame({variable: unique_values}))\n",
    "\n",
    "value_counts_data_sheet4 = []\n",
    "\n",
    "for variable in variables_sheet4:\n",
    "    value_counts = sheet4[variable].value_counts().reset_index()\n",
    "    value_counts.columns = ['Value', 'Count']\n",
    "    value_counts_data_sheet4.append(value_counts)\n",
    "\n",
    "value_counts_df_sheet4 = pd.concat(value_counts_data_sheet4, keys=variables_sheet4, axis=1)\n",
    "value_counts_df_sheet4 = value_counts_df_sheet4.fillna(value=pd.NA)    \n",
    "    \n",
    "unique_values_df_sheet4 = pd.concat(unique_values_data_sheet4, keys=variables_sheet4, axis=1)\n",
    "\n",
    "# Reset the MultiIndex columns to a single level\n",
    "unique_values_df_sheet4.columns = ['_'.join(col) for col in unique_values_df_sheet4.columns]\n",
    "value_counts_df_sheet4.columns = ['_'.join(col) for col in value_counts_df_sheet4.columns]\n",
    "\n",
    "with pd.ExcelWriter('sheet4_unique_values_and_counts.xlsx') as writer:\n",
    "    unique_values_df_sheet4.to_excel(writer, sheet_name='Unique Values', index=False)\n",
    "    value_counts_df_sheet4.to_excel(writer, sheet_name='Value Counts', index=False)\n"
   ]
  },
  {
   "cell_type": "markdown",
   "id": "e03cc485",
   "metadata": {},
   "source": [
    "from pandas import ExcelWriter"
   ]
  },
  {
   "cell_type": "code",
   "execution_count": null,
   "id": "d43bc573",
   "metadata": {},
   "outputs": [],
   "source": [
    "writer = ExcelWriter('cleaned_tja_mychart.xlsx', engine='openpyxl')"
   ]
  },
  {
   "cell_type": "code",
   "execution_count": null,
   "id": "fce5d565",
   "metadata": {},
   "outputs": [],
   "source": [
    "sheet1.to_excel(writer, index=False, sheet_name='general')\n",
    "sheet2.to_excel(writer, index=False, sheet_name='3_weeks_prior')\n",
    "sheet3.to_excel(writer, index=False, sheet_name='90_days_post')\n",
    "sheet4.to_excel(writer, index=False, sheet_name='pro')"
   ]
  },
  {
   "cell_type": "code",
   "execution_count": null,
   "id": "65ae346e",
   "metadata": {},
   "outputs": [],
   "source": [
    "writer.save()"
   ]
  },
  {
   "cell_type": "code",
   "execution_count": null,
   "id": "1d2f7cc5",
   "metadata": {},
   "outputs": [],
   "source": []
  },
  {
   "cell_type": "code",
   "execution_count": null,
   "id": "dc7d7897",
   "metadata": {},
   "outputs": [],
   "source": []
  },
  {
   "cell_type": "code",
   "execution_count": null,
   "id": "abbc4803",
   "metadata": {},
   "outputs": [],
   "source": []
  },
  {
   "cell_type": "code",
   "execution_count": null,
   "id": "c3f127aa",
   "metadata": {},
   "outputs": [],
   "source": []
  },
  {
   "cell_type": "code",
   "execution_count": null,
   "id": "b966e1b6",
   "metadata": {},
   "outputs": [],
   "source": []
  },
  {
   "cell_type": "code",
   "execution_count": null,
   "id": "5f46129d",
   "metadata": {},
   "outputs": [],
   "source": []
  },
  {
   "cell_type": "code",
   "execution_count": null,
   "id": "80db7aa0",
   "metadata": {},
   "outputs": [],
   "source": []
  },
  {
   "cell_type": "code",
   "execution_count": null,
   "id": "a78738f9",
   "metadata": {},
   "outputs": [],
   "source": []
  },
  {
   "cell_type": "code",
   "execution_count": null,
   "id": "d702ab63",
   "metadata": {},
   "outputs": [],
   "source": []
  },
  {
   "cell_type": "code",
   "execution_count": null,
   "id": "3effe89b",
   "metadata": {},
   "outputs": [],
   "source": []
  },
  {
   "cell_type": "code",
   "execution_count": null,
   "id": "42144b34",
   "metadata": {},
   "outputs": [],
   "source": []
  },
  {
   "cell_type": "code",
   "execution_count": null,
   "id": "8b5f0526",
   "metadata": {},
   "outputs": [],
   "source": []
  },
  {
   "cell_type": "code",
   "execution_count": null,
   "id": "8dc89be5",
   "metadata": {},
   "outputs": [],
   "source": []
  },
  {
   "cell_type": "code",
   "execution_count": null,
   "id": "9a705d91",
   "metadata": {},
   "outputs": [],
   "source": []
  },
  {
   "cell_type": "code",
   "execution_count": null,
   "id": "c56d22c1",
   "metadata": {},
   "outputs": [],
   "source": []
  },
  {
   "cell_type": "code",
   "execution_count": null,
   "id": "eb686db9",
   "metadata": {},
   "outputs": [],
   "source": []
  },
  {
   "cell_type": "code",
   "execution_count": null,
   "id": "9c70a98b",
   "metadata": {},
   "outputs": [],
   "source": []
  },
  {
   "cell_type": "code",
   "execution_count": null,
   "id": "6f435977",
   "metadata": {},
   "outputs": [],
   "source": []
  },
  {
   "cell_type": "code",
   "execution_count": null,
   "id": "65931028",
   "metadata": {},
   "outputs": [],
   "source": []
  },
  {
   "cell_type": "code",
   "execution_count": null,
   "id": "6ca28ad0",
   "metadata": {},
   "outputs": [],
   "source": []
  }
 ],
 "metadata": {
  "kernelspec": {
   "display_name": "Python 3 (ipykernel)",
   "language": "python",
   "name": "python3"
  },
  "language_info": {
   "codemirror_mode": {
    "name": "ipython",
    "version": 3
   },
   "file_extension": ".py",
   "mimetype": "text/x-python",
   "name": "python",
   "nbconvert_exporter": "python",
   "pygments_lexer": "ipython3",
   "version": "3.9.13"
  }
 },
 "nbformat": 4,
 "nbformat_minor": 5
}
